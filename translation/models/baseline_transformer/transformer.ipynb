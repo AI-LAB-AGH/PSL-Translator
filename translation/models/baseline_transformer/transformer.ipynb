{
 "cells": [
  {
   "cell_type": "code",
   "id": "initial_id",
   "metadata": {
    "collapsed": true,
    "ExecuteTime": {
     "end_time": "2024-10-14T16:49:22.155836Z",
     "start_time": "2024-10-14T16:49:22.146402Z"
    }
   },
   "source": [
    "from torchtext.data.utils import get_tokenizer\n",
    "from torchtext.vocab import build_vocab_from_iterator\n",
    "from typing import Iterable, List\n",
    "from translation.dataloader import TranslationDataset\n",
    "from torch.nn.utils.rnn import pad_sequence\n",
    "from torch.utils.data import DataLoader\n",
    "import torch\n",
    "import torch.nn as nn\n",
    "from translation.models.baseline_transformer.model import Seq2SeqTransformer\n",
    "DEVICE = torch.device('cuda' if torch.cuda.is_available() else 'cpu')\n",
    "import nltk"
   ],
   "outputs": [],
   "execution_count": 69
  },
  {
   "metadata": {
    "ExecuteTime": {
     "end_time": "2024-10-14T16:49:22.184628Z",
     "start_time": "2024-10-14T16:49:22.155836Z"
    }
   },
   "cell_type": "code",
   "source": [
    "def build_text_transform():\n",
    "    def sequential_transforms(*transforms):\n",
    "        def func(txt_input):\n",
    "            for transform in transforms:\n",
    "                txt_input = transform(txt_input)\n",
    "            return txt_input\n",
    "        return func\n",
    "\n",
    "    def tensor_transform(token_ids):\n",
    "        return torch.cat((torch.tensor([BOS_IDX]),\n",
    "                          torch.tensor(token_ids),\n",
    "                          torch.tensor([EOS_IDX])))\n",
    "\n",
    "    text_transform = sequential_transforms(token_transform,\n",
    "                                               vocab_transform,\n",
    "                                               tensor_transform)\n",
    "    return text_transform\n",
    "\n",
    "def generate_square_subsequent_mask(sz):\n",
    "    mask = (torch.triu(torch.ones((sz, sz), device=DEVICE)) == 1).transpose(0, 1)\n",
    "    mask = mask.float().masked_fill(mask == 0, float('-inf')).masked_fill(mask == 1, float(0.0))\n",
    "    return mask\n",
    "\n",
    "\n",
    "def create_mask(src, tgt):\n",
    "    src_seq_len = src.shape[0]\n",
    "    tgt_seq_len = tgt.shape[0]\n",
    "\n",
    "    tgt_mask = generate_square_subsequent_mask(tgt_seq_len)\n",
    "    src_mask = torch.zeros((src_seq_len, src_seq_len), device=DEVICE).type(torch.bool)\n",
    "\n",
    "    src_padding_mask = (src == PAD_IDX).transpose(0, 1)\n",
    "    tgt_padding_mask = (tgt == PAD_IDX).transpose(0, 1)\n",
    "    return src_mask, tgt_mask, src_padding_mask, tgt_padding_mask\n",
    "\n",
    "def collate_fn(batch):\n",
    "    src_batch, tgt_batch = [], []\n",
    "    for src_sample, tgt_sample in batch:\n",
    "        src_batch.append(build_text_transform()(src_sample.rstrip(\"\\n\")))\n",
    "        tgt_batch.append(build_text_transform()(tgt_sample.rstrip(\"\\n\")))\n",
    "\n",
    "    src_batch = pad_sequence(src_batch, padding_value=PAD_IDX)\n",
    "    tgt_batch = pad_sequence(tgt_batch, padding_value=PAD_IDX)\n",
    "    return src_batch, tgt_batch\n",
    "\n",
    "def translate(model: torch.nn.Module, src_sentence: str):\n",
    "    model.eval()\n",
    "    src = build_text_transform()(src_sentence).view(-1, 1)\n",
    "    num_tokens = src.shape[0]\n",
    "    src_mask = (torch.zeros(num_tokens, num_tokens)).type(torch.bool)\n",
    "    tgt_tokens = greedy_decode(\n",
    "        model,  src, src_mask, max_len=num_tokens + 5, start_symbol=BOS_IDX).flatten()\n",
    "    return \" \".join(vocab_transform.lookup_tokens(list(tgt_tokens.cpu().numpy()))).replace(\"<bos>\", \"\").replace(\"<eos>\", \"\")\n",
    "\n",
    "def greedy_decode(model, src, src_mask, max_len, start_symbol):\n",
    "    src = src.to(DEVICE)\n",
    "    src_mask = src_mask.to(DEVICE)\n",
    "\n",
    "    memory = model.encode(src, src_mask)\n",
    "    ys = torch.ones(1, 1).fill_(start_symbol).type(torch.long).to(DEVICE)\n",
    "    for i in range(max_len-1):\n",
    "        memory = memory.to(DEVICE)\n",
    "        tgt_mask = (generate_square_subsequent_mask(ys.size(0))\n",
    "                    .type(torch.bool)).to(DEVICE)\n",
    "        out = model.decode(ys, memory, tgt_mask)\n",
    "        out = out.transpose(0, 1)\n",
    "        prob = model.generator(out[:, -1])\n",
    "        _, next_word = torch.max(prob, dim=1)\n",
    "        next_word = next_word.item()\n",
    "\n",
    "        ys = torch.cat([ys,\n",
    "                        torch.ones(1, 1).type_as(src.data).fill_(next_word)], dim=0)\n",
    "        if next_word == EOS_IDX:\n",
    "            break\n",
    "    return ys\n",
    "\n",
    "def bleu_evaluation(transformer, test_iter):\n",
    "    score = 0\n",
    "    for sample, target in test_iter:\n",
    "        prediction = translate(transformer, sample).split()\n",
    "        print(sample, \"-\", \" \".join(prediction))\n",
    "        target = target.split()\n",
    "        if len(sample) < 3 or len(target) < 3:\n",
    "            BLEUscore = nltk.translate.bleu_score.sentence_bleu([target], prediction, weights=[0.5, 0.5, 0, 0])\n",
    "        else:\n",
    "            BLEUscore = nltk.translate.bleu_score.sentence_bleu([target], prediction)\n",
    "        score += BLEUscore\n",
    "    return score / len(test_iter)\n"
   ],
   "id": "b02233fa9a3a1cf8",
   "outputs": [],
   "execution_count": 70
  },
  {
   "metadata": {
    "ExecuteTime": {
     "end_time": "2024-10-14T16:49:22.200305Z",
     "start_time": "2024-10-14T16:49:22.184628Z"
    }
   },
   "cell_type": "code",
   "source": "data = TranslationDataset((\"E:/Python/Projects/PSL-Translator/translation/data_collection/data.txt\",))",
   "id": "a951c4de590615e5",
   "outputs": [],
   "execution_count": 71
  },
  {
   "metadata": {
    "ExecuteTime": {
     "end_time": "2024-10-14T16:49:22.918816Z",
     "start_time": "2024-10-14T16:49:22.200305Z"
    }
   },
   "cell_type": "code",
   "source": "token_transform = get_tokenizer('spacy', language='pl_core_news_sm')",
   "id": "d274144e540a8e9",
   "outputs": [],
   "execution_count": 72
  },
  {
   "metadata": {
    "ExecuteTime": {
     "end_time": "2024-10-14T16:49:22.934462Z",
     "start_time": "2024-10-14T16:49:22.918816Z"
    }
   },
   "cell_type": "code",
   "source": [
    "def yield_tokens(data_iter: Iterable) -> List[str]:\n",
    "    for data_sample in data_iter:\n",
    "        yield token_transform(data_sample[0])\n",
    "        yield token_transform(data_sample[1])"
   ],
   "id": "eb220d29adeb7134",
   "outputs": [],
   "execution_count": 73
  },
  {
   "metadata": {
    "ExecuteTime": {
     "end_time": "2024-10-14T16:49:22.950532Z",
     "start_time": "2024-10-14T16:49:22.934462Z"
    }
   },
   "cell_type": "code",
   "source": [
    "UNK_IDX, PAD_IDX, BOS_IDX, EOS_IDX = 0, 1, 2, 3\n",
    "special_symbols = ['<unk>', '<pad>', '<bos>', '<eos>']"
   ],
   "id": "dd7cb43e1423c89b",
   "outputs": [],
   "execution_count": 74
  },
  {
   "metadata": {
    "ExecuteTime": {
     "end_time": "2024-10-14T16:49:22.998419Z",
     "start_time": "2024-10-14T16:49:22.950532Z"
    }
   },
   "cell_type": "code",
   "source": [
    "vocab_transform = build_vocab_from_iterator(yield_tokens(data),\n",
    "                                                    min_freq=1,\n",
    "                                                    specials=special_symbols,\n",
    "                                                    special_first=True)\n",
    "vocab_transform.set_default_index(UNK_IDX)"
   ],
   "id": "15de65e4de1dd789",
   "outputs": [],
   "execution_count": 75
  },
  {
   "metadata": {
    "ExecuteTime": {
     "end_time": "2024-10-14T16:49:23.158834Z",
     "start_time": "2024-10-14T16:49:22.998419Z"
    }
   },
   "cell_type": "code",
   "source": [
    "torch.manual_seed(0)\n",
    "\n",
    "VOCAB_SIZE = len(vocab_transform)\n",
    "EMB_SIZE = 512\n",
    "NHEAD = 8\n",
    "FFN_HID_DIM = 512\n",
    "BATCH_SIZE = 128\n",
    "NUM_ENCODER_LAYERS = 3\n",
    "NUM_DECODER_LAYERS = 3\n",
    "\n",
    "train_iter, val_iter, test_iter = torch.utils.data.random_split(data, [0.9, 0.05, 0.05])\n",
    "train_dataloader = DataLoader(train_iter, batch_size=BATCH_SIZE, collate_fn=collate_fn)\n",
    "val_dataloader = DataLoader(val_iter, batch_size=BATCH_SIZE, collate_fn=collate_fn)\n",
    "\n",
    "transformer = Seq2SeqTransformer(NUM_ENCODER_LAYERS, NUM_DECODER_LAYERS, EMB_SIZE,\n",
    "                                 NHEAD, VOCAB_SIZE, VOCAB_SIZE, FFN_HID_DIM)\n",
    "\n",
    "for p in transformer.parameters():\n",
    "    if p.dim() > 1:\n",
    "        nn.init.xavier_uniform_(p)\n",
    "\n",
    "transformer = transformer.to(DEVICE)\n",
    "\n",
    "loss_fn = torch.nn.CrossEntropyLoss(ignore_index=PAD_IDX)\n",
    "\n",
    "optimizer = torch.optim.Adam(transformer.parameters(), lr=0.0001, betas=(0.9, 0.98), eps=1e-9)"
   ],
   "id": "5f2c3b219bab4f9c",
   "outputs": [],
   "execution_count": 76
  },
  {
   "metadata": {
    "ExecuteTime": {
     "end_time": "2024-10-14T16:49:23.174881Z",
     "start_time": "2024-10-14T16:49:23.158834Z"
    }
   },
   "cell_type": "code",
   "source": [
    "\n",
    "def train_epoch(model, optimizer):\n",
    "    model.train()\n",
    "    losses = 0\n",
    "    \n",
    "    \n",
    "    \n",
    "\n",
    "    for src, tgt in train_dataloader:\n",
    "        src = src.to(DEVICE)\n",
    "        tgt = tgt.to(DEVICE)\n",
    "\n",
    "        tgt_input = tgt[:-1, :]\n",
    "\n",
    "        src_mask, tgt_mask, src_padding_mask, tgt_padding_mask = create_mask(src, tgt_input)\n",
    "\n",
    "        logits = model(src, tgt_input, src_mask, tgt_mask,src_padding_mask, tgt_padding_mask, src_padding_mask)\n",
    "\n",
    "        optimizer.zero_grad()\n",
    "\n",
    "        tgt_out = tgt[1:, :]\n",
    "        loss = loss_fn(logits.reshape(-1, logits.shape[-1]), tgt_out.reshape(-1))\n",
    "        loss.backward()\n",
    "\n",
    "        optimizer.step()\n",
    "        losses += loss.item()\n",
    "\n",
    "    return losses / len(list(train_dataloader))\n",
    "\n",
    "\n",
    "def evaluate(model):\n",
    "    model.eval()\n",
    "    losses = 0\n",
    "\n",
    "    \n",
    "\n",
    "    for src, tgt in val_dataloader:\n",
    "        src = src.to(DEVICE)\n",
    "        tgt = tgt.to(DEVICE)\n",
    "\n",
    "        tgt_input = tgt[:-1, :]\n",
    "\n",
    "        src_mask, tgt_mask, src_padding_mask, tgt_padding_mask = create_mask(src, tgt_input)\n",
    "\n",
    "        logits = model(src, tgt_input, src_mask, tgt_mask,src_padding_mask, tgt_padding_mask, src_padding_mask)\n",
    "\n",
    "        tgt_out = tgt[1:, :]\n",
    "        loss = loss_fn(logits.reshape(-1, logits.shape[-1]), tgt_out.reshape(-1))\n",
    "        losses += loss.item()\n",
    "\n",
    "    return losses / len(list(val_dataloader))"
   ],
   "id": "30f99af8ea289a40",
   "outputs": [],
   "execution_count": 77
  },
  {
   "metadata": {
    "ExecuteTime": {
     "end_time": "2024-10-14T16:49:53.367731Z",
     "start_time": "2024-10-14T16:49:23.175885Z"
    }
   },
   "cell_type": "code",
   "source": [
    "from timeit import default_timer as timer\n",
    "NUM_EPOCHS = 200\n",
    "\n",
    "for epoch in range(1, NUM_EPOCHS+1):\n",
    "    start_time = timer()\n",
    "    train_loss = train_epoch(transformer, optimizer)\n",
    "    end_time = timer()\n",
    "    val_loss = evaluate(transformer)\n",
    "    print((f\"Epoch: {epoch}, Train loss: {train_loss:.3f}, Val loss: {val_loss:.3f}, \"f\"Epoch time = {(end_time - start_time):.3f}s\"))"
   ],
   "id": "6964740c158ff171",
   "outputs": [
    {
     "name": "stdout",
     "output_type": "stream",
     "text": [
      "Epoch: 1, Train loss: 6.185, Val loss: 6.293, Epoch time = 0.237s\n",
      "Epoch: 2, Train loss: 5.799, Val loss: 4.629, Epoch time = 0.234s\n",
      "Epoch: 3, Train loss: 5.125, Val loss: 4.703, Epoch time = 0.239s\n",
      "Epoch: 4, Train loss: 5.140, Val loss: 4.701, Epoch time = 0.226s\n",
      "Epoch: 5, Train loss: 5.057, Val loss: 4.541, Epoch time = 0.236s\n",
      "Epoch: 6, Train loss: 4.768, Val loss: 4.493, Epoch time = 0.239s\n",
      "Epoch: 7, Train loss: 4.605, Val loss: 4.675, Epoch time = 0.251s\n",
      "Epoch: 8, Train loss: 4.623, Val loss: 4.643, Epoch time = 0.235s\n",
      "Epoch: 9, Train loss: 4.531, Val loss: 4.444, Epoch time = 0.246s\n",
      "Epoch: 10, Train loss: 4.347, Val loss: 4.342, Epoch time = 0.227s\n",
      "Epoch: 11, Train loss: 4.234, Val loss: 4.317, Epoch time = 0.237s\n",
      "Epoch: 12, Train loss: 4.200, Val loss: 4.257, Epoch time = 0.241s\n",
      "Epoch: 13, Train loss: 4.072, Val loss: 4.160, Epoch time = 0.238s\n",
      "Epoch: 14, Train loss: 3.914, Val loss: 4.119, Epoch time = 0.244s\n",
      "Epoch: 15, Train loss: 3.755, Val loss: 4.170, Epoch time = 0.241s\n",
      "Epoch: 16, Train loss: 3.674, Val loss: 4.193, Epoch time = 0.229s\n",
      "Epoch: 17, Train loss: 3.536, Val loss: 4.119, Epoch time = 0.229s\n",
      "Epoch: 18, Train loss: 3.420, Val loss: 3.999, Epoch time = 0.236s\n",
      "Epoch: 19, Train loss: 3.283, Val loss: 3.916, Epoch time = 0.239s\n",
      "Epoch: 20, Train loss: 3.222, Val loss: 3.849, Epoch time = 0.239s\n",
      "Epoch: 21, Train loss: 3.118, Val loss: 3.806, Epoch time = 0.236s\n",
      "Epoch: 22, Train loss: 2.986, Val loss: 3.790, Epoch time = 0.242s\n",
      "Epoch: 23, Train loss: 2.853, Val loss: 3.771, Epoch time = 0.238s\n",
      "Epoch: 24, Train loss: 2.754, Val loss: 3.723, Epoch time = 0.240s\n",
      "Epoch: 25, Train loss: 2.590, Val loss: 3.644, Epoch time = 0.237s\n",
      "Epoch: 26, Train loss: 2.491, Val loss: 3.546, Epoch time = 0.237s\n",
      "Epoch: 27, Train loss: 2.393, Val loss: 3.462, Epoch time = 0.244s\n",
      "Epoch: 28, Train loss: 2.294, Val loss: 3.402, Epoch time = 0.235s\n",
      "Epoch: 29, Train loss: 2.155, Val loss: 3.366, Epoch time = 0.233s\n",
      "Epoch: 30, Train loss: 2.070, Val loss: 3.346, Epoch time = 0.229s\n",
      "Epoch: 31, Train loss: 1.937, Val loss: 3.343, Epoch time = 0.239s\n",
      "Epoch: 32, Train loss: 1.916, Val loss: 3.344, Epoch time = 0.228s\n",
      "Epoch: 33, Train loss: 1.790, Val loss: 3.339, Epoch time = 0.242s\n",
      "Epoch: 34, Train loss: 1.644, Val loss: 3.331, Epoch time = 0.245s\n",
      "Epoch: 35, Train loss: 1.624, Val loss: 3.325, Epoch time = 0.227s\n",
      "Epoch: 36, Train loss: 1.524, Val loss: 3.333, Epoch time = 0.242s\n",
      "Epoch: 37, Train loss: 1.474, Val loss: 3.350, Epoch time = 0.244s\n",
      "Epoch: 38, Train loss: 1.398, Val loss: 3.372, Epoch time = 0.238s\n",
      "Epoch: 39, Train loss: 1.269, Val loss: 3.385, Epoch time = 0.243s\n",
      "Epoch: 40, Train loss: 1.242, Val loss: 3.386, Epoch time = 0.241s\n",
      "Epoch: 41, Train loss: 1.165, Val loss: 3.380, Epoch time = 0.219s\n",
      "Epoch: 42, Train loss: 1.126, Val loss: 3.365, Epoch time = 0.237s\n",
      "Epoch: 43, Train loss: 1.055, Val loss: 3.333, Epoch time = 0.231s\n",
      "Epoch: 44, Train loss: 1.016, Val loss: 3.308, Epoch time = 0.240s\n",
      "Epoch: 45, Train loss: 0.916, Val loss: 3.286, Epoch time = 0.242s\n",
      "Epoch: 46, Train loss: 0.886, Val loss: 3.282, Epoch time = 0.241s\n",
      "Epoch: 47, Train loss: 0.853, Val loss: 3.297, Epoch time = 0.238s\n",
      "Epoch: 48, Train loss: 0.803, Val loss: 3.331, Epoch time = 0.243s\n",
      "Epoch: 49, Train loss: 0.754, Val loss: 3.347, Epoch time = 0.246s\n",
      "Epoch: 50, Train loss: 0.727, Val loss: 3.343, Epoch time = 0.232s\n",
      "Epoch: 51, Train loss: 0.665, Val loss: 3.337, Epoch time = 0.245s\n",
      "Epoch: 52, Train loss: 0.650, Val loss: 3.336, Epoch time = 0.246s\n",
      "Epoch: 53, Train loss: 0.628, Val loss: 3.334, Epoch time = 0.232s\n",
      "Epoch: 54, Train loss: 0.582, Val loss: 3.328, Epoch time = 0.246s\n",
      "Epoch: 55, Train loss: 0.559, Val loss: 3.337, Epoch time = 0.243s\n",
      "Epoch: 56, Train loss: 0.539, Val loss: 3.350, Epoch time = 0.245s\n",
      "Epoch: 57, Train loss: 0.474, Val loss: 3.365, Epoch time = 0.246s\n",
      "Epoch: 58, Train loss: 0.493, Val loss: 3.369, Epoch time = 0.241s\n",
      "Epoch: 59, Train loss: 0.442, Val loss: 3.343, Epoch time = 0.245s\n",
      "Epoch: 60, Train loss: 0.453, Val loss: 3.315, Epoch time = 0.242s\n",
      "Epoch: 61, Train loss: 0.430, Val loss: 3.303, Epoch time = 0.236s\n",
      "Epoch: 62, Train loss: 0.381, Val loss: 3.301, Epoch time = 0.243s\n",
      "Epoch: 63, Train loss: 0.369, Val loss: 3.297, Epoch time = 0.242s\n",
      "Epoch: 64, Train loss: 0.373, Val loss: 3.301, Epoch time = 0.246s\n",
      "Epoch: 65, Train loss: 0.332, Val loss: 3.314, Epoch time = 0.246s\n",
      "Epoch: 66, Train loss: 0.309, Val loss: 3.331, Epoch time = 0.242s\n",
      "Epoch: 67, Train loss: 0.320, Val loss: 3.356, Epoch time = 0.243s\n",
      "Epoch: 68, Train loss: 0.303, Val loss: 3.365, Epoch time = 0.247s\n",
      "Epoch: 69, Train loss: 0.279, Val loss: 3.359, Epoch time = 0.247s\n",
      "Epoch: 70, Train loss: 0.266, Val loss: 3.346, Epoch time = 0.249s\n",
      "Epoch: 71, Train loss: 0.265, Val loss: 3.331, Epoch time = 0.248s\n",
      "Epoch: 72, Train loss: 0.247, Val loss: 3.324, Epoch time = 0.261s\n",
      "Epoch: 73, Train loss: 0.243, Val loss: 3.325, Epoch time = 0.265s\n",
      "Epoch: 74, Train loss: 0.237, Val loss: 3.330, Epoch time = 0.250s\n",
      "Epoch: 75, Train loss: 0.228, Val loss: 3.339, Epoch time = 0.249s\n",
      "Epoch: 76, Train loss: 0.205, Val loss: 3.355, Epoch time = 0.245s\n",
      "Epoch: 77, Train loss: 0.206, Val loss: 3.374, Epoch time = 0.245s\n",
      "Epoch: 78, Train loss: 0.199, Val loss: 3.390, Epoch time = 0.252s\n",
      "Epoch: 79, Train loss: 0.196, Val loss: 3.402, Epoch time = 0.246s\n",
      "Epoch: 80, Train loss: 0.193, Val loss: 3.406, Epoch time = 0.246s\n",
      "Epoch: 81, Train loss: 0.178, Val loss: 3.411, Epoch time = 0.240s\n",
      "Epoch: 82, Train loss: 0.162, Val loss: 3.413, Epoch time = 0.244s\n",
      "Epoch: 83, Train loss: 0.165, Val loss: 3.419, Epoch time = 0.249s\n",
      "Epoch: 84, Train loss: 0.145, Val loss: 3.427, Epoch time = 0.246s\n",
      "Epoch: 85, Train loss: 0.140, Val loss: 3.433, Epoch time = 0.251s\n",
      "Epoch: 86, Train loss: 0.148, Val loss: 3.445, Epoch time = 0.243s\n",
      "Epoch: 87, Train loss: 0.152, Val loss: 3.458, Epoch time = 0.252s\n",
      "Epoch: 88, Train loss: 0.141, Val loss: 3.471, Epoch time = 0.246s\n",
      "Epoch: 89, Train loss: 0.128, Val loss: 3.487, Epoch time = 0.240s\n",
      "Epoch: 90, Train loss: 0.121, Val loss: 3.495, Epoch time = 0.247s\n",
      "Epoch: 91, Train loss: 0.126, Val loss: 3.495, Epoch time = 0.246s\n",
      "Epoch: 92, Train loss: 0.123, Val loss: 3.483, Epoch time = 0.241s\n",
      "Epoch: 93, Train loss: 0.124, Val loss: 3.467, Epoch time = 0.244s\n",
      "Epoch: 94, Train loss: 0.117, Val loss: 3.451, Epoch time = 0.247s\n",
      "Epoch: 95, Train loss: 0.114, Val loss: 3.445, Epoch time = 0.246s\n",
      "Epoch: 96, Train loss: 0.107, Val loss: 3.456, Epoch time = 0.245s\n",
      "Epoch: 97, Train loss: 0.107, Val loss: 3.476, Epoch time = 0.251s\n",
      "Epoch: 98, Train loss: 0.097, Val loss: 3.502, Epoch time = 0.244s\n",
      "Epoch: 99, Train loss: 0.105, Val loss: 3.522, Epoch time = 0.252s\n",
      "Epoch: 100, Train loss: 0.096, Val loss: 3.534, Epoch time = 0.247s\n",
      "Epoch: 101, Train loss: 0.093, Val loss: 3.538, Epoch time = 0.247s\n",
      "Epoch: 102, Train loss: 0.092, Val loss: 3.541, Epoch time = 0.253s\n",
      "Epoch: 103, Train loss: 0.089, Val loss: 3.538, Epoch time = 0.240s\n",
      "Epoch: 104, Train loss: 0.088, Val loss: 3.532, Epoch time = 0.254s\n",
      "Epoch: 105, Train loss: 0.086, Val loss: 3.532, Epoch time = 0.239s\n",
      "Epoch: 106, Train loss: 0.084, Val loss: 3.535, Epoch time = 0.252s\n",
      "Epoch: 107, Train loss: 0.079, Val loss: 3.542, Epoch time = 0.247s\n",
      "Epoch: 108, Train loss: 0.086, Val loss: 3.543, Epoch time = 0.253s\n",
      "Epoch: 109, Train loss: 0.079, Val loss: 3.544, Epoch time = 0.240s\n",
      "Epoch: 110, Train loss: 0.081, Val loss: 3.541, Epoch time = 0.237s\n",
      "Epoch: 111, Train loss: 0.069, Val loss: 3.535, Epoch time = 0.251s\n",
      "Epoch: 112, Train loss: 0.068, Val loss: 3.531, Epoch time = 0.249s\n",
      "Epoch: 113, Train loss: 0.074, Val loss: 3.529, Epoch time = 0.254s\n",
      "Epoch: 114, Train loss: 0.070, Val loss: 3.527, Epoch time = 0.244s\n",
      "Epoch: 115, Train loss: 0.063, Val loss: 3.530, Epoch time = 0.243s\n",
      "Epoch: 116, Train loss: 0.069, Val loss: 3.540, Epoch time = 0.241s\n",
      "Epoch: 117, Train loss: 0.065, Val loss: 3.545, Epoch time = 0.255s\n"
     ]
    },
    {
     "ename": "KeyboardInterrupt",
     "evalue": "",
     "output_type": "error",
     "traceback": [
      "\u001B[1;31m---------------------------------------------------------------------------\u001B[0m",
      "\u001B[1;31mKeyboardInterrupt\u001B[0m                         Traceback (most recent call last)",
      "Cell \u001B[1;32mIn[78], line 6\u001B[0m\n\u001B[0;32m      4\u001B[0m \u001B[38;5;28;01mfor\u001B[39;00m epoch \u001B[38;5;129;01min\u001B[39;00m \u001B[38;5;28mrange\u001B[39m(\u001B[38;5;241m1\u001B[39m, NUM_EPOCHS\u001B[38;5;241m+\u001B[39m\u001B[38;5;241m1\u001B[39m):\n\u001B[0;32m      5\u001B[0m     start_time \u001B[38;5;241m=\u001B[39m timer()\n\u001B[1;32m----> 6\u001B[0m     train_loss \u001B[38;5;241m=\u001B[39m \u001B[43mtrain_epoch\u001B[49m\u001B[43m(\u001B[49m\u001B[43mtransformer\u001B[49m\u001B[43m,\u001B[49m\u001B[43m \u001B[49m\u001B[43moptimizer\u001B[49m\u001B[43m)\u001B[49m\n\u001B[0;32m      7\u001B[0m     end_time \u001B[38;5;241m=\u001B[39m timer()\n\u001B[0;32m      8\u001B[0m     val_loss \u001B[38;5;241m=\u001B[39m evaluate(transformer)\n",
      "Cell \u001B[1;32mIn[77], line 22\u001B[0m, in \u001B[0;36mtrain_epoch\u001B[1;34m(model, optimizer)\u001B[0m\n\u001B[0;32m     20\u001B[0m tgt_out \u001B[38;5;241m=\u001B[39m tgt[\u001B[38;5;241m1\u001B[39m:, :]\n\u001B[0;32m     21\u001B[0m loss \u001B[38;5;241m=\u001B[39m loss_fn(logits\u001B[38;5;241m.\u001B[39mreshape(\u001B[38;5;241m-\u001B[39m\u001B[38;5;241m1\u001B[39m, logits\u001B[38;5;241m.\u001B[39mshape[\u001B[38;5;241m-\u001B[39m\u001B[38;5;241m1\u001B[39m]), tgt_out\u001B[38;5;241m.\u001B[39mreshape(\u001B[38;5;241m-\u001B[39m\u001B[38;5;241m1\u001B[39m))\n\u001B[1;32m---> 22\u001B[0m \u001B[43mloss\u001B[49m\u001B[38;5;241;43m.\u001B[39;49m\u001B[43mbackward\u001B[49m\u001B[43m(\u001B[49m\u001B[43m)\u001B[49m\n\u001B[0;32m     24\u001B[0m optimizer\u001B[38;5;241m.\u001B[39mstep()\n\u001B[0;32m     25\u001B[0m losses \u001B[38;5;241m+\u001B[39m\u001B[38;5;241m=\u001B[39m loss\u001B[38;5;241m.\u001B[39mitem()\n",
      "File \u001B[1;32mE:\\Python\\Projects\\pythonProject4\\venv\\lib\\site-packages\\torch\\_tensor.py:522\u001B[0m, in \u001B[0;36mTensor.backward\u001B[1;34m(self, gradient, retain_graph, create_graph, inputs)\u001B[0m\n\u001B[0;32m    512\u001B[0m \u001B[38;5;28;01mif\u001B[39;00m has_torch_function_unary(\u001B[38;5;28mself\u001B[39m):\n\u001B[0;32m    513\u001B[0m     \u001B[38;5;28;01mreturn\u001B[39;00m handle_torch_function(\n\u001B[0;32m    514\u001B[0m         Tensor\u001B[38;5;241m.\u001B[39mbackward,\n\u001B[0;32m    515\u001B[0m         (\u001B[38;5;28mself\u001B[39m,),\n\u001B[1;32m   (...)\u001B[0m\n\u001B[0;32m    520\u001B[0m         inputs\u001B[38;5;241m=\u001B[39minputs,\n\u001B[0;32m    521\u001B[0m     )\n\u001B[1;32m--> 522\u001B[0m \u001B[43mtorch\u001B[49m\u001B[38;5;241;43m.\u001B[39;49m\u001B[43mautograd\u001B[49m\u001B[38;5;241;43m.\u001B[39;49m\u001B[43mbackward\u001B[49m\u001B[43m(\u001B[49m\n\u001B[0;32m    523\u001B[0m \u001B[43m    \u001B[49m\u001B[38;5;28;43mself\u001B[39;49m\u001B[43m,\u001B[49m\u001B[43m \u001B[49m\u001B[43mgradient\u001B[49m\u001B[43m,\u001B[49m\u001B[43m \u001B[49m\u001B[43mretain_graph\u001B[49m\u001B[43m,\u001B[49m\u001B[43m \u001B[49m\u001B[43mcreate_graph\u001B[49m\u001B[43m,\u001B[49m\u001B[43m \u001B[49m\u001B[43minputs\u001B[49m\u001B[38;5;241;43m=\u001B[39;49m\u001B[43minputs\u001B[49m\n\u001B[0;32m    524\u001B[0m \u001B[43m\u001B[49m\u001B[43m)\u001B[49m\n",
      "File \u001B[1;32mE:\\Python\\Projects\\pythonProject4\\venv\\lib\\site-packages\\torch\\autograd\\__init__.py:266\u001B[0m, in \u001B[0;36mbackward\u001B[1;34m(tensors, grad_tensors, retain_graph, create_graph, grad_variables, inputs)\u001B[0m\n\u001B[0;32m    261\u001B[0m     retain_graph \u001B[38;5;241m=\u001B[39m create_graph\n\u001B[0;32m    263\u001B[0m \u001B[38;5;66;03m# The reason we repeat the same comment below is that\u001B[39;00m\n\u001B[0;32m    264\u001B[0m \u001B[38;5;66;03m# some Python versions print out the first line of a multi-line function\u001B[39;00m\n\u001B[0;32m    265\u001B[0m \u001B[38;5;66;03m# calls in the traceback and some print out the last line\u001B[39;00m\n\u001B[1;32m--> 266\u001B[0m \u001B[43mVariable\u001B[49m\u001B[38;5;241;43m.\u001B[39;49m\u001B[43m_execution_engine\u001B[49m\u001B[38;5;241;43m.\u001B[39;49m\u001B[43mrun_backward\u001B[49m\u001B[43m(\u001B[49m\u001B[43m  \u001B[49m\u001B[38;5;66;43;03m# Calls into the C++ engine to run the backward pass\u001B[39;49;00m\n\u001B[0;32m    267\u001B[0m \u001B[43m    \u001B[49m\u001B[43mtensors\u001B[49m\u001B[43m,\u001B[49m\n\u001B[0;32m    268\u001B[0m \u001B[43m    \u001B[49m\u001B[43mgrad_tensors_\u001B[49m\u001B[43m,\u001B[49m\n\u001B[0;32m    269\u001B[0m \u001B[43m    \u001B[49m\u001B[43mretain_graph\u001B[49m\u001B[43m,\u001B[49m\n\u001B[0;32m    270\u001B[0m \u001B[43m    \u001B[49m\u001B[43mcreate_graph\u001B[49m\u001B[43m,\u001B[49m\n\u001B[0;32m    271\u001B[0m \u001B[43m    \u001B[49m\u001B[43minputs\u001B[49m\u001B[43m,\u001B[49m\n\u001B[0;32m    272\u001B[0m \u001B[43m    \u001B[49m\u001B[43mallow_unreachable\u001B[49m\u001B[38;5;241;43m=\u001B[39;49m\u001B[38;5;28;43;01mTrue\u001B[39;49;00m\u001B[43m,\u001B[49m\n\u001B[0;32m    273\u001B[0m \u001B[43m    \u001B[49m\u001B[43maccumulate_grad\u001B[49m\u001B[38;5;241;43m=\u001B[39;49m\u001B[38;5;28;43;01mTrue\u001B[39;49;00m\u001B[43m,\u001B[49m\n\u001B[0;32m    274\u001B[0m \u001B[43m\u001B[49m\u001B[43m)\u001B[49m\n",
      "\u001B[1;31mKeyboardInterrupt\u001B[0m: "
     ]
    }
   ],
   "execution_count": 78
  },
  {
   "metadata": {
    "ExecuteTime": {
     "end_time": "2024-10-14T16:50:05.974006Z",
     "start_time": "2024-10-14T16:50:05.867976Z"
    }
   },
   "cell_type": "code",
   "source": "print(\"Your BLEU score is: \" + str(bleu_evaluation(transformer, test_iter)))",
   "id": "31af1f0ad6357d84",
   "outputs": [
    {
     "name": "stdout",
     "output_type": "stream",
     "text": [
      "Ona koleżanka przyjść jutro - Ona często pożycza książki\n",
      "On samochód już myć - On przeczytał gazetę\n",
      "Ty codziennie sport uprawiać? - Czy codziennie ćwiczy sport ?\n",
      "My wczoraj kino iść - Ona zrobiła wczoraj kolację\n",
      "Your BLEU score is: 2.097066605252115e-155\n"
     ]
    }
   ],
   "execution_count": 80
  },
  {
   "metadata": {
    "ExecuteTime": {
     "end_time": "2024-10-14T16:49:53.367731Z",
     "start_time": "2024-10-14T16:49:53.367731Z"
    }
   },
   "cell_type": "code",
   "source": "",
   "id": "d8da8cb4500394b7",
   "outputs": [],
   "execution_count": null
  }
 ],
 "metadata": {
  "kernelspec": {
   "display_name": "Python 3",
   "language": "python",
   "name": "python3"
  },
  "language_info": {
   "codemirror_mode": {
    "name": "ipython",
    "version": 2
   },
   "file_extension": ".py",
   "mimetype": "text/x-python",
   "name": "python",
   "nbconvert_exporter": "python",
   "pygments_lexer": "ipython2",
   "version": "2.7.6"
  }
 },
 "nbformat": 4,
 "nbformat_minor": 5
}
